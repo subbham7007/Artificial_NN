{
 "cells": [
  {
   "cell_type": "code",
   "execution_count": 4,
   "metadata": {
    "id": "wSrUhBji2lBT"
   },
   "outputs": [],
   "source": [
    "import numpy as np\n",
    "\n",
    "class NeuralNetwork:\n",
    "    def __init__(self, input_size, hidden_size, output_size, learning_rate=0.1):\n",
    "        # Initialize weights and biases for the layers\n",
    "        self.weights_input_hidden = np.random.rand(input_size, hidden_size)\n",
    "        self.bias_input_hidden = np.random.rand(hidden_size)\n",
    "        self.weights_hidden_output = np.random.rand(hidden_size, output_size)\n",
    "        self.bias_hidden_output = np.random.rand(output_size)\n",
    "        self.learning_rate = learning_rate\n",
    "        print(f\"weights_input_hidden: {self.weights_input_hidden}\")\n",
    "        print(f\"bias_input_hidden: {self.bias_input_hidden}\")\n",
    "        print(f\"weights_hidden_output: {self.weights_hidden_output}\")\n",
    "        print(f\"bias_hidden_output: {self.bias_hidden_output}\")\n",
    "\n",
    "    def sigmoid(self, x):\n",
    "        # Sigmoid activation function\n",
    "        return 1 / (1 + np.exp(-x))\n",
    "\n",
    "    def sigmoid_derivative(self, x):\n",
    "        # Derivative of the sigmoid function\n",
    "        return x * (1 - x)\n",
    "\n",
    "    def feedforward(self, inputs):\n",
    "        # Compute output through the network\n",
    "        self.hidden_sum = np.dot(inputs, self.weights_input_hidden) + self.bias_input_hidden\n",
    "        self.hidden_activation = self.sigmoid(self.hidden_sum)\n",
    "\n",
    "        self.output_sum = np.dot(self.hidden_activation, self.weights_hidden_output) + self.bias_hidden_output\n",
    "        self.output = self.sigmoid(self.output_sum)\n",
    "\n",
    "        return self.output\n",
    "\n",
    "    def backward(self, inputs, targets):\n",
    "        # Backpropagation algorithm to update weights and biases\n",
    "        output_error = targets - self.output\n",
    "        #error signal\n",
    "        output_delta = output_error * self.sigmoid_derivative(self.output)\n",
    "\n",
    "        hidden_error = output_delta.dot(self.weights_hidden_output.T)\n",
    "        hidden_delta = hidden_error * self.sigmoid_derivative(self.hidden_activation)\n",
    "        #np.outer use for multiplication\n",
    "        self.weights_hidden_output += np.outer(self.hidden_activation, output_delta) * self.learning_rate\n",
    "        self.bias_hidden_output += np.sum(output_delta) * self.learning_rate\n",
    "        self.weights_input_hidden += np.outer(inputs, hidden_delta) * self.learning_rate\n",
    "        self.bias_input_hidden += np.sum(hidden_delta) * self.learning_rate\n",
    "\n",
    "    def train(self, training_inputs, training_targets, epochs):\n",
    "        # Training the neural network\n",
    "        for epoch in range(epochs):\n",
    "            for inputs, targets in zip(training_inputs, training_targets):\n",
    "                self.feedforward(inputs)\n",
    "                #reshape(1, -1) is used for convert 1D to 2D\n",
    "                self.backward(inputs.reshape(1, -1), targets)\n",
    "\n",
    "            if (epoch + 1) % 100 == 0:\n",
    "                loss = np.mean(np.square(training_targets - self.feedforward(training_inputs)))\n",
    "                print(f'Epoch {epoch + 1}/{epochs}, Loss: {loss}')\n",
    "\n",
    "\n"
   ]
  },
  {
   "cell_type": "code",
   "execution_count": 5,
   "metadata": {
    "id": "K_iLb8jg3vIV"
   },
   "outputs": [],
   "source": [
    "def output(n):\n",
    "  return 1 if n>=0.5 else 0"
   ]
  },
  {
   "cell_type": "code",
   "execution_count": 6,
   "metadata": {
    "colab": {
     "base_uri": "https://localhost:8080/"
    },
    "id": "ABp084HY2qpb",
    "outputId": "f3064ffd-a859-401a-f503-e68384dcb13c"
   },
   "outputs": [
    {
     "name": "stdout",
     "output_type": "stream",
     "text": [
      "weights_input_hidden: [[0.1466171  0.59419456]\n",
      " [0.8269246  0.03467866]]\n",
      "bias_input_hidden: [0.13817357 0.09689158]\n",
      "weights_hidden_output: [[0.25276196]\n",
      " [0.59684055]]\n",
      "bias_hidden_output: [0.11696805]\n",
      "Epoch 100/1000, Loss: 0.25002083945092873\n",
      "Epoch 200/1000, Loss: 0.2500124895420224\n",
      "Epoch 300/1000, Loss: 0.2500067156696758\n",
      "Epoch 400/1000, Loss: 0.2500015491777738\n",
      "Epoch 500/1000, Loss: 0.24999692814852215\n",
      "Epoch 600/1000, Loss: 0.24999277088802388\n",
      "Epoch 700/1000, Loss: 0.24998900734258023\n",
      "Epoch 800/1000, Loss: 0.24998557729002896\n",
      "Epoch 900/1000, Loss: 0.2499824285112292\n",
      "Epoch 1000/1000, Loss: 0.24997951529371826\n",
      "Predictions:\n",
      "[0 0] -> 0\n",
      "[0 1] -> 0\n",
      "[1 0] -> 1\n",
      "[1 1] -> 1\n"
     ]
    }
   ],
   "source": [
    "# Example usage:\n",
    "if __name__ == \"__main__\":\n",
    "    # Define training data (input features)\n",
    "    training_inputs = np.array([[0, 0], [0, 1], [1, 0], [1, 1]])\n",
    "\n",
    "    # Define training targets (desired outputs)\n",
    "    training_targets = np.array([[0], [1], [1], [0]])\n",
    "\n",
    "    # Create a neural network with 2 input neurons, 2 hidden neurons, and 1 output neuron\n",
    "    neural_network = NeuralNetwork(input_size=2, hidden_size=2, output_size=1, learning_rate=0.1)\n",
    "\n",
    "    # Train the neural network\n",
    "    neural_network.train(training_inputs, training_targets, epochs=1000)\n",
    "\n",
    "    # Test the trained neural network\n",
    "    print(\"Predictions:\")\n",
    "    for inputs in training_inputs:\n",
    "        prediction = neural_network.feedforward(inputs)\n",
    "        print(f\"{inputs} -> {output(prediction)}\")"
   ]
  }
 ],
 "metadata": {
  "colab": {
   "provenance": []
  },
  "kernelspec": {
   "display_name": "Python 3 (ipykernel)",
   "language": "python",
   "name": "python3"
  },
  "language_info": {
   "codemirror_mode": {
    "name": "ipython",
    "version": 3
   },
   "file_extension": ".py",
   "mimetype": "text/x-python",
   "name": "python",
   "nbconvert_exporter": "python",
   "pygments_lexer": "ipython3",
   "version": "3.11.4"
  }
 },
 "nbformat": 4,
 "nbformat_minor": 1
}
