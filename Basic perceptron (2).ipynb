{
 "cells": [
  {
   "cell_type": "markdown",
   "id": "b695ab8c",
   "metadata": {},
   "source": [
    "# Basic Perceptron"
   ]
  },
  {
   "cell_type": "code",
   "execution_count": 1,
   "id": "8afdfa6a",
   "metadata": {},
   "outputs": [],
   "source": [
    "import numpy as np"
   ]
  },
  {
   "cell_type": "code",
   "execution_count": 2,
   "id": "0f0ec369",
   "metadata": {},
   "outputs": [],
   "source": [
    "inputs = [1.2, 5.1, 2.1]\n",
    "weights = [3.1, 2.1, 8.7]\n",
    "bias = 3"
   ]
  },
  {
   "cell_type": "code",
   "execution_count": 3,
   "id": "59a68a55",
   "metadata": {},
   "outputs": [
    {
     "name": "stdout",
     "output_type": "stream",
     "text": [
      "35.7\n"
     ]
    }
   ],
   "source": [
    "output = inputs[0]*weights[0]+inputs[1]*weights[1]+inputs[2]*weights[2]+bias\n",
    "print(output)"
   ]
  },
  {
   "cell_type": "code",
   "execution_count": 4,
   "id": "3f3d53c6",
   "metadata": {},
   "outputs": [],
   "source": [
    "def a_f(n):\n",
    "    return 1 / (1 + np.exp(-n))"
   ]
  },
  {
   "cell_type": "code",
   "execution_count": 5,
   "id": "db6af970",
   "metadata": {},
   "outputs": [
    {
     "name": "stdout",
     "output_type": "stream",
     "text": [
      "0.9999999999999998\n"
     ]
    }
   ],
   "source": [
    "final_output = a_f(output)\n",
    "print(final_output)"
   ]
  },
  {
   "cell_type": "code",
   "execution_count": null,
   "id": "be8c40db",
   "metadata": {},
   "outputs": [],
   "source": []
  }
 ],
 "metadata": {
  "kernelspec": {
   "display_name": "Python 3 (ipykernel)",
   "language": "python",
   "name": "python3"
  },
  "language_info": {
   "codemirror_mode": {
    "name": "ipython",
    "version": 3
   },
   "file_extension": ".py",
   "mimetype": "text/x-python",
   "name": "python",
   "nbconvert_exporter": "python",
   "pygments_lexer": "ipython3",
   "version": "3.11.4"
  }
 },
 "nbformat": 4,
 "nbformat_minor": 5
}
